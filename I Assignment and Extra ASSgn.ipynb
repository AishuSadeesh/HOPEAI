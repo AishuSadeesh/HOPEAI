{
 "cells": [
  {
   "cell_type": "code",
   "execution_count": 2,
   "id": "c0b26a04-8ede-4961-be13-dda31a69c595",
   "metadata": {},
   "outputs": [
    {
     "name": "stdout",
     "output_type": "stream",
     "text": [
      "Welcome to Assignment-1\n"
     ]
    }
   ],
   "source": [
    "print(\"Welcome to Assignment-1\")"
   ]
  },
  {
   "cell_type": "code",
   "execution_count": 4,
   "id": "1940af01-368a-4719-98be-94a5d1827a11",
   "metadata": {},
   "outputs": [
    {
     "name": "stdout",
     "output_type": "stream",
     "text": [
      "Num1= 10\n",
      "Num2= 30\n",
      "Add=  40\n"
     ]
    }
   ],
   "source": [
    "Num1=10\n",
    "Num2=30\n",
    "Add=Num1+Num2\n",
    "print(\"Num1= 10\")\n",
    "print(\"Num2= 30\")\n",
    "print(\"Add= \",Add)"
   ]
  },
  {
   "cell_type": "markdown",
   "id": "2d7f6862-30a9-4111-a453-7b56e68ca833",
   "metadata": {},
   "source": [
    "#BMI\n",
    "BMI Categories (WHO Classification):\n",
    "According to the World Health Organization (WHO), BMI is classified as follows:\n",
    "\n",
    "Underweight: BMI < 18.5\n",
    "Normal weight: BMI 18.5 – 24.9\n",
    "Overweight: BMI 25 – 29.9\n",
    "Obesity Class I: BMI 30 – 34.9\n",
    "Obesity Class II: BMI 35 – 39.9\n",
    "Obesity Class III (Severe): BMI ≥ 40\n"
   ]
  },
  {
   "cell_type": "code",
   "execution_count": 6,
   "id": "89749ee5-59c6-458b-a08f-31a11b394fdb",
   "metadata": {},
   "outputs": [
    {
     "name": "stdin",
     "output_type": "stream",
     "text": [
      "Enter the BMI Index: 34\n"
     ]
    },
    {
     "name": "stdout",
     "output_type": "stream",
     "text": [
      "Very overweight\n"
     ]
    }
   ],
   "source": [
    "BMI=int(input(\"Enter the BMI Index:\"))\n",
    "if (BMI<=18.5):\n",
    "    print(\"Underweight\")\n",
    "elif (BMI<=24.9):\n",
    "    print(\"Normal weight\")\n",
    "elif (BMI<=29.9):\n",
    "    print(\"Overweight\")\n",
    "elif (BMI<=34.9):\n",
    "    print(\"Very overweight\")\n",
    "else:\n",
    "    print(\"Obesity\")"
   ]
  },
  {
   "cell_type": "markdown",
   "id": "4c413f8b-d2ab-4873-9700-088e88a9aa33",
   "metadata": {},
   "source": [
    "## Extra ASSIGNMENT"
   ]
  },
  {
   "cell_type": "code",
   "execution_count": 7,
   "id": "d50a2402-7370-49e3-a2a4-e44ffdce67cf",
   "metadata": {},
   "outputs": [
    {
     "name": "stdout",
     "output_type": "stream",
     "text": [
      "HOPE AI\n"
     ]
    }
   ],
   "source": [
    "print(\"HOPE AI\") #print statement"
   ]
  },
  {
   "cell_type": "code",
   "execution_count": 8,
   "id": "9bd95507-2a71-4a4e-ac0c-36a7a537d82c",
   "metadata": {},
   "outputs": [
    {
     "name": "stdin",
     "output_type": "stream",
     "text": [
      "Enter your institute name?:  HOPE AI\n"
     ]
    }
   ],
   "source": [
    "Ans=input(\"Enter your institute name?: \") # buy input"
   ]
  },
  {
   "cell_type": "code",
   "execution_count": 9,
   "id": "82a3094d-9f5c-424c-87dc-2c38c5fbdd13",
   "metadata": {},
   "outputs": [
    {
     "name": "stdin",
     "output_type": "stream",
     "text": [
      "Enter your name:  Raj\n",
      "Enter your age:  15\n",
      "Enter your School name:  Guru School\n",
      "Enter your degree:  B.E CSE\n"
     ]
    }
   ],
   "source": [
    "Name=input(\"Enter your name: \") # buy inputs\n",
    "Age=int(input(\"Enter your age: \"))\n",
    "School=input(\"Enter your School name: \")\n",
    "Degree=input(\"Enter your degree: \")"
   ]
  },
  {
   "cell_type": "code",
   "execution_count": 13,
   "id": "8da8c81c-675f-44b9-81c5-c52bb09d51a2",
   "metadata": {},
   "outputs": [
    {
     "name": "stdout",
     "output_type": "stream",
     "text": [
      "a= 43\n",
      "b= 34\n",
      "Add= 77\n"
     ]
    }
   ],
   "source": [
    "a=43 #addition\n",
    "b=34\n",
    "Add=a+b\n",
    "print(\"a=\",a)\n",
    "print(\"b=\",b)\n",
    "print(\"Add=\",Add)"
   ]
  },
  {
   "cell_type": "code",
   "execution_count": 15,
   "id": "15cb4ff8-f7cc-4437-87c4-fc7aca07a996",
   "metadata": {},
   "outputs": [
    {
     "name": "stdout",
     "output_type": "stream",
     "text": [
      "a= 43\n",
      "b= 34\n",
      "sub= 9\n"
     ]
    }
   ],
   "source": [
    "a=43 #Substraction\n",
    "b=34\n",
    "Sub=a-b\n",
    "print(\"a=\",a)\n",
    "print(\"b=\",b)\n",
    "print(\"sub=\",Sub)"
   ]
  },
  {
   "cell_type": "code",
   "execution_count": 17,
   "id": "7e649582-7cbb-4447-993a-496fa76a3430",
   "metadata": {},
   "outputs": [
    {
     "name": "stdout",
     "output_type": "stream",
     "text": [
      "a= 63\n",
      "b= 97\n",
      "Mul= 6111\n"
     ]
    }
   ],
   "source": [
    "a=63 #Multiplication\n",
    "b=97\n",
    "Mul=a*b\n",
    "print(\"a=\",a)\n",
    "print(\"b=\",b)\n",
    "print(\"Mul=\",Mul)"
   ]
  },
  {
   "cell_type": "code",
   "execution_count": 19,
   "id": "acb45910-bdaf-40f8-9e10-6b5a402c5bda",
   "metadata": {},
   "outputs": [
    {
     "name": "stdout",
     "output_type": "stream",
     "text": [
      "a= 76\n",
      "b= 31\n",
      "Float Div= 2.4516129032258065\n"
     ]
    }
   ],
   "source": [
    "a=76 #Float Division\n",
    "b=31\n",
    "Float=a/b\n",
    "print(\"a=\",a)\n",
    "print(\"b=\",b)\n",
    "print(\"Float Div=\",Float)"
   ]
  },
  {
   "cell_type": "code",
   "execution_count": 21,
   "id": "4761629f-134c-4902-83de-14834b7b3718",
   "metadata": {},
   "outputs": [
    {
     "name": "stdout",
     "output_type": "stream",
     "text": [
      "a= 76\n",
      "b= 31\n",
      "Floor Div= 2\n"
     ]
    }
   ],
   "source": [
    "#Floor Division\n",
    "Floor=a//b\n",
    "print(\"a=\",a)\n",
    "print(\"b=\",b)\n",
    "print(\"Floor Div=\",Floor)"
   ]
  },
  {
   "cell_type": "code",
   "execution_count": 22,
   "id": "d2423c60-2d1c-41b8-8351-d6fd975cb41d",
   "metadata": {},
   "outputs": [
    {
     "name": "stdout",
     "output_type": "stream",
     "text": [
      "a= 76\n",
      "b= 31\n",
      "Modulo 14\n"
     ]
    }
   ],
   "source": [
    "#Modulo\n",
    "Mod=a%b\n",
    "print(\"a=\",a)\n",
    "print(\"b=\",b)\n",
    "print(\"Modulo\",Mod)"
   ]
  },
  {
   "cell_type": "code",
   "execution_count": 23,
   "id": "f3a5860d-2e0d-4e69-b9e0-f7eae5962b75",
   "metadata": {},
   "outputs": [
    {
     "name": "stdout",
     "output_type": "stream",
     "text": [
      "a= 4\n",
      "b= 4\n",
      "Power= 256\n"
     ]
    }
   ],
   "source": [
    "a=4 #Power\n",
    "b=4\n",
    "P=a**b\n",
    "print(\"a=\",a)\n",
    "print(\"b=\",b)\n",
    "print(\"Power=\",P)"
   ]
  },
  {
   "cell_type": "code",
   "execution_count": 24,
   "id": "66567886-d222-48ff-950f-c8d1afa0e403",
   "metadata": {},
   "outputs": [
    {
     "name": "stdout",
     "output_type": "stream",
     "text": [
      "0\n",
      "1\n",
      "2\n",
      "3\n",
      "4\n",
      "5\n",
      "6\n",
      "7\n",
      "8\n",
      "9\n",
      "10\n",
      "11\n",
      "12\n",
      "13\n",
      "14\n",
      "15\n",
      "16\n",
      "17\n",
      "18\n",
      "19\n",
      "20\n"
     ]
    }
   ],
   "source": [
    "#range\n",
    "#print 0 to 20 by using range\n",
    "for num in range(21):  # range(21) generates numbers from 0 to 20\n",
    "    print(num)"
   ]
  },
  {
   "cell_type": "code",
   "execution_count": 27,
   "id": "0579c568-7f02-4391-b73d-9c8a144a8ec9",
   "metadata": {},
   "outputs": [
    {
     "name": "stdout",
     "output_type": "stream",
     "text": [
      "10 11 12 13 14 15 16 17 18 19 "
     ]
    }
   ],
   "source": [
    "#print range 10 to 20\n",
    "for num in range(10,20):\n",
    "    print(num, end=\" \")"
   ]
  },
  {
   "cell_type": "code",
   "execution_count": 29,
   "id": "31ec4999-52b4-4898-8b36-f431e13de4f3",
   "metadata": {},
   "outputs": [
    {
     "name": "stdout",
     "output_type": "stream",
     "text": [
      "Number of items in the list2: 7\n"
     ]
    }
   ],
   "source": [
    "#print number of items in the lists using 'len'\n",
    "lists=[10,20,14,55,43,87,76]\n",
    "print(lists)\n",
    "print(\"Number of items in the list2:\",(len(lists)))"
   ]
  },
  {
   "cell_type": "code",
   "execution_count": 30,
   "id": "2b663e35-6665-4bcb-b260-4e121a5a13b8",
   "metadata": {},
   "outputs": [
    {
     "name": "stdout",
     "output_type": "stream",
     "text": [
      "A\n",
      "r\n",
      "t\n",
      "i\n",
      "f\n",
      "i\n",
      "c\n",
      "i\n",
      "a\n",
      "l\n",
      " \n",
      "I\n",
      "n\n",
      "t\n",
      "e\n",
      "l\n",
      "l\n",
      "i\n",
      "g\n",
      "e\n",
      "n\n",
      "c\n",
      "e\n"
     ]
    }
   ],
   "source": [
    "text = \"Artificial Intelligence\"\n",
    "for char in text:\n",
    "    print(char)"
   ]
  },
  {
   "cell_type": "code",
   "execution_count": 31,
   "id": "f4dd7bbe-cfb6-4b1c-bbd1-f68e6d40a604",
   "metadata": {},
   "outputs": [
    {
     "name": "stdout",
     "output_type": "stream",
     "text": [
      "-Your Name-\n",
      "-Your Age-\n",
      "-Your Profession-\n"
     ]
    }
   ],
   "source": [
    "print(\"-Your Name-\")\n",
    "print(\"-Your Age-\")\n",
    "print(\"-Your Profession-\")"
   ]
  },
  {
   "cell_type": "code",
   "execution_count": 32,
   "id": "86fa28c1-39dc-4b55-82fc-b1a609530aeb",
   "metadata": {},
   "outputs": [
    {
     "name": "stdout",
     "output_type": "stream",
     "text": [
      "(1, 'Welcome', 2, 'Hope')\n"
     ]
    }
   ],
   "source": [
    "mytuple=(1,'Welcome',2,'Hope')\n",
    "print(mytuple)"
   ]
  },
  {
   "cell_type": "code",
   "execution_count": 33,
   "id": "f8d67104-1ef1-4a77-9425-a016a7985698",
   "metadata": {},
   "outputs": [
    {
     "name": "stdout",
     "output_type": "stream",
     "text": [
      "((0, 1, 2, 3), ('python', 'HOPE'))\n"
     ]
    }
   ],
   "source": [
    "# Code for creating nested tuples\n",
    "t1 = (0, 1, 2, 3)\n",
    "t2 = ('python', 'HOPE')\n",
    "\n",
    "t3 = (t1, t2)\n",
    "print(t3)"
   ]
  },
  {
   "cell_type": "code",
   "execution_count": 37,
   "id": "efddec81-d242-48f9-9a7a-61261c4f1a2b",
   "metadata": {},
   "outputs": [
    {
     "name": "stdout",
     "output_type": "stream",
     "text": [
      "19 is odd\n",
      "25 is odd\n",
      "1 is odd\n"
     ]
    }
   ],
   "source": [
    "#print odd numbers in the list\n",
    "#list will be in closed bracket the given number is in tuple\n",
    "numbers=(20,10,16,19,25,1,276,188)\n",
    "for num in numbers:\n",
    "    if num % 2 != 0:\n",
    "        print(f\"{num} is odd\")"
   ]
  },
  {
   "cell_type": "code",
   "execution_count": 38,
   "id": "c32209a9-9d24-4406-a4ec-0464068aeb74",
   "metadata": {},
   "outputs": [
    {
     "name": "stdout",
     "output_type": "stream",
     "text": [
      "20 is Even\n",
      "10 is Even\n",
      "16 is Even\n",
      "276 is Even\n",
      "188 is Even\n"
     ]
    }
   ],
   "source": [
    "numbers=(20,10,16,19,25,1,276,188)\n",
    "for num in numbers:\n",
    "    if num % 2 == 0:\n",
    "        print(f\"{num} is Even\")"
   ]
  },
  {
   "cell_type": "code",
   "execution_count": 39,
   "id": "23adfa88-cf9e-44e5-a65e-ccdf48589f48",
   "metadata": {},
   "outputs": [
    {
     "name": "stdout",
     "output_type": "stream",
     "text": [
      "value=10\n",
      "correct\n"
     ]
    }
   ],
   "source": [
    "i=10\n",
    "if i == 10:\n",
    "    print(f\"value={i}\")\n",
    "    print(\"correct\")"
   ]
  },
  {
   "cell_type": "code",
   "execution_count": 40,
   "id": "d9b1f0bb-c83f-41c1-a85d-22b13dc60a95",
   "metadata": {},
   "outputs": [
    {
     "name": "stdin",
     "output_type": "stream",
     "text": [
      "Enter the Password: HOPE@123\n"
     ]
    },
    {
     "name": "stdout",
     "output_type": "stream",
     "text": [
      "Your Password is Correct\n"
     ]
    }
   ],
   "source": [
    "#check password using if and else\n",
    "pwd=input(\"Enter the Password:\")\n",
    "if (pwd==\"HOPE@123\"):\n",
    "    print(\"Your Password is Correct\")\n",
    "else:\n",
    "    print(\"Your Password is inCorrect\")"
   ]
  },
  {
   "cell_type": "code",
   "execution_count": 41,
   "id": "01db0634-89c7-4ed4-8c95-ee278d29e268",
   "metadata": {},
   "outputs": [
    {
     "name": "stdin",
     "output_type": "stream",
     "text": [
      "Age: 20\n"
     ]
    },
    {
     "name": "stdout",
     "output_type": "stream",
     "text": [
      "Adult\n"
     ]
    }
   ],
   "source": [
    "#code checking for adult\n",
    "age=int(input(\"Age:\"))\n",
    "if (age<18):\n",
    "    print(\"Children\")\n",
    "elif(age<35):\n",
    "    print(\"Adult\")\n",
    "elif(age<59):\n",
    "    print(\"Citizen\")\n",
    "else:\n",
    "    print(\"Senior Citizen\")"
   ]
  },
  {
   "cell_type": "code",
   "execution_count": 42,
   "id": "11495c66-9358-4a0a-9aa0-d6ad8ce5818a",
   "metadata": {},
   "outputs": [
    {
     "name": "stdin",
     "output_type": "stream",
     "text": [
      "Enter any number: 1\n"
     ]
    },
    {
     "name": "stdout",
     "output_type": "stream",
     "text": [
      "No is positive\n"
     ]
    }
   ],
   "source": [
    "#Find the given number is +ve or -ve\n",
    "num=int(input(\"Enter any number:\"))\n",
    "if (num<0):\n",
    "    print(\"No is negative\")\n",
    "else:\n",
    "    print(\"No is positive\")"
   ]
  },
  {
   "cell_type": "code",
   "execution_count": 43,
   "id": "ac1a6221-fcb7-4685-bad0-e8bd4906cdf0",
   "metadata": {},
   "outputs": [
    {
     "name": "stdin",
     "output_type": "stream",
     "text": [
      "Enter any number: 22\n"
     ]
    },
    {
     "name": "stdout",
     "output_type": "stream",
     "text": [
      "No is not divisible by 5\n"
     ]
    }
   ],
   "source": [
    "#Check whether the given number is divisible by 5\n",
    "num=int(input(\"Enter any number:\"))\n",
    "if (num/5)==0:\n",
    "    print(\"No is divisible by 5\")\n",
    "else:\n",
    "    print(\"No is not divisible by 5\")"
   ]
  },
  {
   "cell_type": "code",
   "execution_count": null,
   "id": "354c8f57-d438-4419-abff-86f6a4af1f98",
   "metadata": {},
   "outputs": [],
   "source": []
  }
 ],
 "metadata": {
  "kernelspec": {
   "display_name": "Python 3 (ipykernel)",
   "language": "python",
   "name": "python3"
  },
  "language_info": {
   "codemirror_mode": {
    "name": "ipython",
    "version": 3
   },
   "file_extension": ".py",
   "mimetype": "text/x-python",
   "name": "python",
   "nbconvert_exporter": "python",
   "pygments_lexer": "ipython3",
   "version": "3.12.7"
  }
 },
 "nbformat": 4,
 "nbformat_minor": 5
}
