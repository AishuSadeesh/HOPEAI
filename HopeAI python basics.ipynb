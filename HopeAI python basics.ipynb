{
 "cells": [
  {
   "cell_type": "code",
   "execution_count": 1,
   "id": "d5655a33-ab19-40ac-a1a8-cd3cb8782f0d",
   "metadata": {},
   "outputs": [
    {
     "name": "stdout",
     "output_type": "stream",
     "text": [
      "\n"
     ]
    }
   ],
   "source": [
    "print()"
   ]
  },
  {
   "cell_type": "code",
   "execution_count": 2,
   "id": "f105ddc3-6a20-4116-bd70-a45be686eefa",
   "metadata": {},
   "outputs": [
    {
     "name": "stdout",
     "output_type": "stream",
     "text": [
      "welcome to HOPE AI\n"
     ]
    }
   ],
   "source": [
    "print(\"welcome to HOPE AI\")"
   ]
  },
  {
   "cell_type": "code",
   "execution_count": 3,
   "id": "95350e7d-4e53-42c8-b366-9bb06a9a1fcc",
   "metadata": {},
   "outputs": [
    {
     "ename": "SyntaxError",
     "evalue": "closing parenthesis ')' does not match opening parenthesis '{' (2641848698.py, line 1)",
     "output_type": "error",
     "traceback": [
      "\u001b[1;36m  Cell \u001b[1;32mIn[3], line 1\u001b[1;36m\u001b[0m\n\u001b[1;33m    print{\"1234567890\")\u001b[0m\n\u001b[1;37m                      ^\u001b[0m\n\u001b[1;31mSyntaxError\u001b[0m\u001b[1;31m:\u001b[0m closing parenthesis ')' does not match opening parenthesis '{'\n"
     ]
    }
   ],
   "source": [
    "print{\"1234567890\")"
   ]
  },
  {
   "cell_type": "code",
   "execution_count": 5,
   "id": "9a71bece-eba1-41e9-8b25-b90966ea8dc0",
   "metadata": {},
   "outputs": [
    {
     "name": "stdout",
     "output_type": "stream",
     "text": [
      "1234567890\n"
     ]
    }
   ],
   "source": [
    "print(\"1234567890\")"
   ]
  },
  {
   "cell_type": "code",
   "execution_count": 6,
   "id": "bf12e003-d6f9-4665-8593-43983e044480",
   "metadata": {},
   "outputs": [
    {
     "ename": "NameError",
     "evalue": "name 'Print' is not defined",
     "output_type": "error",
     "traceback": [
      "\u001b[1;31m---------------------------------------------------------------------------\u001b[0m",
      "\u001b[1;31mNameError\u001b[0m                                 Traceback (most recent call last)",
      "Cell \u001b[1;32mIn[6], line 1\u001b[0m\n\u001b[1;32m----> 1\u001b[0m Print(\u001b[38;5;124m\"\u001b[39m\u001b[38;5;124mhello\u001b[39m\u001b[38;5;124m\"\u001b[39m)\n",
      "\u001b[1;31mNameError\u001b[0m: name 'Print' is not defined"
     ]
    }
   ],
   "source": [
    "Print(\"hello\") #case sensitive"
   ]
  },
  {
   "cell_type": "code",
   "execution_count": 7,
   "id": "c86d11f6-613f-4e33-9446-97dfd275efbb",
   "metadata": {},
   "outputs": [],
   "source": [
    "##variables\n",
    "it holds value\n",
    "= assignment operator"
   ]
  },
  {
   "cell_type": "code",
   "execution_count": 8,
   "id": "ee6ab3d0-29e4-49dd-ae9a-2a8a8cd7b6a0",
   "metadata": {},
   "outputs": [],
   "source": [
    "num1=10\n",
    "num2=20\n",
    "add=num1+num2"
   ]
  },
  {
   "cell_type": "code",
   "execution_count": 9,
   "id": "f296cb26-1727-4a95-bd65-7e40e9ad0963",
   "metadata": {},
   "outputs": [
    {
     "data": {
      "text/plain": [
       "30"
      ]
     },
     "execution_count": 9,
     "metadata": {},
     "output_type": "execute_result"
    }
   ],
   "source": [
    "add"
   ]
  },
  {
   "cell_type": "code",
   "execution_count": 10,
   "id": "45f35af6-0b6a-4c48-ba63-b9b1dac785d6",
   "metadata": {},
   "outputs": [
    {
     "name": "stdout",
     "output_type": "stream",
     "text": [
      "add\n",
      "30\n"
     ]
    }
   ],
   "source": [
    "num1=10\n",
    "num2=20\n",
    "add=num1+num2\n",
    "print(\"add\")\n",
    "print(add)"
   ]
  },
  {
   "cell_type": "code",
   "execution_count": 1,
   "id": "32725081-ba52-4eca-8e9f-c62e89496519",
   "metadata": {},
   "outputs": [
    {
     "ename": "SyntaxError",
     "evalue": "invalid syntax (1211621083.py, line 1)",
     "output_type": "error",
     "traceback": [
      "\u001b[1;36m  Cell \u001b[1;32mIn[1], line 1\u001b[1;36m\u001b[0m\n\u001b[1;33m    First Name = (\"Hello World\")\u001b[0m\n\u001b[1;37m          ^\u001b[0m\n\u001b[1;31mSyntaxError\u001b[0m\u001b[1;31m:\u001b[0m invalid syntax\n"
     ]
    }
   ],
   "source": [
    "First Name = (\"Hello World\") #no space "
   ]
  },
  {
   "cell_type": "code",
   "execution_count": 3,
   "id": "5eee7f59-3ccf-4ed3-9a68-465aa8a66cf9",
   "metadata": {},
   "outputs": [
    {
     "name": "stdout",
     "output_type": "stream",
     "text": [
      "Hello World\n"
     ]
    }
   ],
   "source": [
    "First_Name = (\"Hello World\")\n",
    "print(First_Name)"
   ]
  },
  {
   "cell_type": "code",
   "execution_count": 4,
   "id": "dad2529d-d285-421d-ae86-0233a8ed1e19",
   "metadata": {},
   "outputs": [
    {
     "name": "stdout",
     "output_type": "stream",
     "text": [
      "Hello World\n"
     ]
    }
   ],
   "source": [
    "FirstName = (\"Hello World\")\n",
    "print(First_Name)"
   ]
  },
  {
   "cell_type": "code",
   "execution_count": 5,
   "id": "9ad4d291-9562-4d3d-b5f0-b73659c42ffb",
   "metadata": {},
   "outputs": [
    {
     "name": "stdout",
     "output_type": "stream",
     "text": [
      "Hello World\n"
     ]
    }
   ],
   "source": [
    "firstName = (\"Hello World\")\n",
    "print(First_Name)"
   ]
  },
  {
   "cell_type": "code",
   "execution_count": 6,
   "id": "b67078fb-df14-4242-8252-0b74ea8adbe1",
   "metadata": {},
   "outputs": [
    {
     "name": "stdout",
     "output_type": "stream",
     "text": [
      "Hello World\n"
     ]
    }
   ],
   "source": [
    "First2Name = (\"Hello World\")\n",
    "print(First_Name)"
   ]
  },
  {
   "cell_type": "code",
   "execution_count": 7,
   "id": "5388eb4f-5036-48ea-90bd-769ff2888846",
   "metadata": {},
   "outputs": [
    {
     "ename": "SyntaxError",
     "evalue": "invalid decimal literal (4051273978.py, line 1)",
     "output_type": "error",
     "traceback": [
      "\u001b[1;36m  Cell \u001b[1;32mIn[7], line 1\u001b[1;36m\u001b[0m\n\u001b[1;33m    2first_Name = (\"Hello World\")\u001b[0m\n\u001b[1;37m    ^\u001b[0m\n\u001b[1;31mSyntaxError\u001b[0m\u001b[1;31m:\u001b[0m invalid decimal literal\n"
     ]
    }
   ],
   "source": [
    "2first_Name = (\"Hello World\") #no number in first place of variable assigning name\n",
    "print(First_Name)"
   ]
  },
  {
   "cell_type": "code",
   "execution_count": 8,
   "id": "0ec71087-0d57-4c4b-8999-bc21c63a5cea",
   "metadata": {},
   "outputs": [
    {
     "name": "stdout",
     "output_type": "stream",
     "text": [
      "The Addition of two numbers\n",
      "The number1 : 10\n",
      "The number2 : 20\n",
      "The answer : 30\n"
     ]
    }
   ],
   "source": [
    "## Output customer requested\n",
    "# The Addition of two numbers\n",
    "# The number1 :10\n",
    "# The number2 :20\n",
    "# The answer : 30\n",
    "\n",
    "#Code1\n",
    "print(\"The Addition of two numbers\")\n",
    "num1=10\n",
    "print(\"The number1 :\",num1)\n",
    "num2=20\n",
    "print(\"The number2 :\",num2)\n",
    "print(\"The answer :\",num1+num2)"
   ]
  },
  {
   "cell_type": "code",
   "execution_count": 9,
   "id": "77f65dfd-a05a-4f21-ac8e-d3e1a501e194",
   "metadata": {},
   "outputs": [
    {
     "name": "stdout",
     "output_type": "stream",
     "text": [
      "The Addition of two numbers\n",
      "The number1 : 10\n",
      "The number2 : 20\n",
      "The answer : 30\n"
     ]
    }
   ],
   "source": [
    "#Code2\n",
    "num1=10\n",
    "num2=20\n",
    "print(\"The Addition of two numbers\")\n",
    "print(\"The number1 :\",num1)\n",
    "print(\"The number2 :\",num2)\n",
    "print(\"The answer :\",num1+num2)"
   ]
  },
  {
   "cell_type": "code",
   "execution_count": 10,
   "id": "f63025ae-863c-436b-9bc4-5833bc1d3755",
   "metadata": {},
   "outputs": [
    {
     "name": "stdout",
     "output_type": "stream",
     "text": [
      "The Addition of two numbers\n",
      "The number1 : 10\n",
      "The number2 : 20\n",
      "The answer : 30\n"
     ]
    }
   ],
   "source": [
    "#Code3\n",
    "num1=10\n",
    "num2=20\n",
    "add=num1+num2\n",
    "print(\"The Addition of two numbers\")\n",
    "print(\"The number1 :\",num1)\n",
    "print(\"The number2 :\",num2)\n",
    "print(\"The answer :\",add)"
   ]
  },
  {
   "cell_type": "code",
   "execution_count": 11,
   "id": "c87886b9-4164-4884-8313-090fccd8ba1b",
   "metadata": {},
   "outputs": [],
   "source": [
    "# input statement\n",
    "#will get input values or string from user\n",
    "# input(\"Enter the last month salary\") #the typed answer from user will be considered as string\n",
    "# input(\"Enter the num1\") #string\n",
    "\n",
    "#int(input(\"Enter the num1\")) #will consider as integer"
   ]
  },
  {
   "cell_type": "code",
   "execution_count": 12,
   "id": "4b9ee455-b8bb-47cc-9ab4-0894a2e76733",
   "metadata": {},
   "outputs": [
    {
     "name": "stdin",
     "output_type": "stream",
     "text": [
      "Enter the num1 1\n"
     ]
    },
    {
     "data": {
      "text/plain": [
       "'1'"
      ]
     },
     "execution_count": 12,
     "metadata": {},
     "output_type": "execute_result"
    }
   ],
   "source": [
    "input(\"Enter the num1\") #string"
   ]
  },
  {
   "cell_type": "code",
   "execution_count": 13,
   "id": "85bf6c34-9090-4744-898c-134f07c9c069",
   "metadata": {},
   "outputs": [
    {
     "name": "stdin",
     "output_type": "stream",
     "text": [
      "Enter the num1 45\n"
     ]
    },
    {
     "data": {
      "text/plain": [
       "45"
      ]
     },
     "execution_count": 13,
     "metadata": {},
     "output_type": "execute_result"
    }
   ],
   "source": [
    "int(input(\"Enter the num1\")) #integer"
   ]
  },
  {
   "cell_type": "code",
   "execution_count": 14,
   "id": "33209283-47a3-4211-bda0-a3ec86c331cd",
   "metadata": {},
   "outputs": [
    {
     "name": "stdin",
     "output_type": "stream",
     "text": [
      "Enter the num1 : 20\n",
      "Enter the num2 : 40\n"
     ]
    }
   ],
   "source": [
    "#define and call to action\n",
    "num1=int(input(\"Enter the num1 :\"))\n",
    "num2=int(input(\"Enter the num2 :\"))\n",
    "add=num1+num2 #print not defined"
   ]
  },
  {
   "cell_type": "code",
   "execution_count": 15,
   "id": "fcff22dc-6d1a-4fa9-bee2-345a07485af1",
   "metadata": {},
   "outputs": [
    {
     "name": "stdout",
     "output_type": "stream",
     "text": [
      "60\n"
     ]
    }
   ],
   "source": [
    "print(add)"
   ]
  },
  {
   "cell_type": "code",
   "execution_count": 16,
   "id": "aeedcebb-3953-4c55-8e15-776f204aa992",
   "metadata": {},
   "outputs": [
    {
     "name": "stdin",
     "output_type": "stream",
     "text": [
      "Enter the num1 : 20\n",
      "Enter the num2 : 40\n"
     ]
    },
    {
     "name": "stdout",
     "output_type": "stream",
     "text": [
      "60\n"
     ]
    }
   ],
   "source": [
    "#define and call to action\n",
    "#integer\n",
    "num1=int(input(\"Enter the num1 :\"))\n",
    "num2=int(input(\"Enter the num2 :\"))\n",
    "add=num1+num2 \n",
    "print(add)"
   ]
  },
  {
   "cell_type": "code",
   "execution_count": 17,
   "id": "73cfa458-7876-47b0-9eda-b27445af56b0",
   "metadata": {},
   "outputs": [
    {
     "ename": "SyntaxError",
     "evalue": "'(' was never closed (1673941186.py, line 3)",
     "output_type": "error",
     "traceback": [
      "\u001b[1;36m  Cell \u001b[1;32mIn[17], line 3\u001b[1;36m\u001b[0m\n\u001b[1;33m    num1=(input(\"Enter the num1 :\")\u001b[0m\n\u001b[1;37m         ^\u001b[0m\n\u001b[1;31mSyntaxError\u001b[0m\u001b[1;31m:\u001b[0m '(' was never closed\n"
     ]
    }
   ],
   "source": [
    "#define and call to action\n",
    "#string\n",
    "num1=(input(\"Enter the num1 :\") #error in open paranthesis \n",
    "num2=input(\"Enter the num2 :\")\n",
    "add=num1+num2 \n",
    "print(add)"
   ]
  },
  {
   "cell_type": "code",
   "execution_count": 18,
   "id": "8d2e7c69-37cc-4a71-bf6e-02b38a17b4af",
   "metadata": {},
   "outputs": [
    {
     "name": "stdin",
     "output_type": "stream",
     "text": [
      "Enter the num1 : 30\n",
      "Enter the num2 : 40\n"
     ]
    },
    {
     "name": "stdout",
     "output_type": "stream",
     "text": [
      "3040\n"
     ]
    }
   ],
   "source": [
    "#define and call to action\n",
    "#string\n",
    "num1=input(\"Enter the num1 :\") #when the input value is not defined as integer it will be considered as string\n",
    "num2=input(\"Enter the num2 :\")\n",
    "add=num1+num2 \n",
    "print(add)"
   ]
  },
  {
   "cell_type": "code",
   "execution_count": 19,
   "id": "70e04145-6999-4b9d-a64e-888157c7c83f",
   "metadata": {},
   "outputs": [
    {
     "ename": "SyntaxError",
     "evalue": "invalid decimal literal (1891298313.py, line 4)",
     "output_type": "error",
     "traceback": [
      "\u001b[1;36m  Cell \u001b[1;32mIn[19], line 4\u001b[1;36m\u001b[0m\n\u001b[1;33m    2num=30\u001b[0m\n\u001b[1;37m    ^\u001b[0m\n\u001b[1;31mSyntaxError\u001b[0m\u001b[1;31m:\u001b[0m invalid decimal literal\n"
     ]
    }
   ],
   "source": [
    "# error\n",
    "#1.Name error\n",
    "#2. Syntax error\n",
    "2num=30"
   ]
  },
  {
   "cell_type": "code",
   "execution_count": 20,
   "id": "4a034744-5f27-45f7-87ed-5eef85ed1c5d",
   "metadata": {},
   "outputs": [
    {
     "name": "stdin",
     "output_type": "stream",
     "text": [
      "Enter the num1 : 20\n",
      "Enter the num2 : 40\n"
     ]
    },
    {
     "ename": "NameError",
     "evalue": "name 'num' is not defined",
     "output_type": "error",
     "traceback": [
      "\u001b[1;31m---------------------------------------------------------------------------\u001b[0m",
      "\u001b[1;31mNameError\u001b[0m                                 Traceback (most recent call last)",
      "Cell \u001b[1;32mIn[20], line 3\u001b[0m\n\u001b[0;32m      1\u001b[0m num1\u001b[38;5;241m=\u001b[39m\u001b[38;5;28minput\u001b[39m(\u001b[38;5;124m\"\u001b[39m\u001b[38;5;124mEnter the num1 :\u001b[39m\u001b[38;5;124m\"\u001b[39m) \n\u001b[0;32m      2\u001b[0m num2\u001b[38;5;241m=\u001b[39m\u001b[38;5;28minput\u001b[39m(\u001b[38;5;124m\"\u001b[39m\u001b[38;5;124mEnter the num2 :\u001b[39m\u001b[38;5;124m\"\u001b[39m)\n\u001b[1;32m----> 3\u001b[0m add\u001b[38;5;241m=\u001b[39mnum1\u001b[38;5;241m+\u001b[39mnum\n\u001b[0;32m      4\u001b[0m \u001b[38;5;28mprint\u001b[39m(add)\n",
      "\u001b[1;31mNameError\u001b[0m: name 'num' is not defined"
     ]
    }
   ],
   "source": [
    "num1=input(\"Enter the num1 :\") \n",
    "num2=input(\"Enter the num2 :\")\n",
    "add=num1+num #name error is spelling mistake or the new variable entered is not defined\n",
    "print(add)"
   ]
  },
  {
   "cell_type": "code",
   "execution_count": 21,
   "id": "3451bbb0-fa81-43f2-aed8-02fa5369cea0",
   "metadata": {},
   "outputs": [
    {
     "ename": "SyntaxError",
     "evalue": "incomplete input (597478084.py, line 1)",
     "output_type": "error",
     "traceback": [
      "\u001b[1;36m  Cell \u001b[1;32mIn[21], line 1\u001b[1;36m\u001b[0m\n\u001b[1;33m    num1=int(input(\"Enter the num1 :\")\u001b[0m\n\u001b[1;37m                                       ^\u001b[0m\n\u001b[1;31mSyntaxError\u001b[0m\u001b[1;31m:\u001b[0m incomplete input\n"
     ]
    }
   ],
   "source": [
    "num1=int(input(\"Enter the num1 :\") #error in coding, error in paranthesis or close bracket"
   ]
  },
  {
   "cell_type": "code",
   "execution_count": 23,
   "id": "609ad85c-9ad7-48db-b081-63182f697315",
   "metadata": {},
   "outputs": [
    {
     "name": "stdin",
     "output_type": "stream",
     "text": [
      "Enter the name: Aishwarya\n"
     ]
    },
    {
     "ename": "ValueError",
     "evalue": "invalid literal for int() with base 10: 'Aishwarya'",
     "output_type": "error",
     "traceback": [
      "\u001b[1;31m---------------------------------------------------------------------------\u001b[0m",
      "\u001b[1;31mValueError\u001b[0m                                Traceback (most recent call last)",
      "Cell \u001b[1;32mIn[23], line 2\u001b[0m\n\u001b[0;32m      1\u001b[0m \u001b[38;5;66;03m#value error\u001b[39;00m\n\u001b[1;32m----> 2\u001b[0m num1\u001b[38;5;241m=\u001b[39m\u001b[38;5;28mint\u001b[39m(\u001b[38;5;28minput\u001b[39m(\u001b[38;5;124m\"\u001b[39m\u001b[38;5;124mEnter the name:\u001b[39m\u001b[38;5;124m\"\u001b[39m))\n",
      "\u001b[1;31mValueError\u001b[0m: invalid literal for int() with base 10: 'Aishwarya'"
     ]
    }
   ],
   "source": [
    "#value error\n",
    "num1=int(input(\"Enter the name:\")) #code is for extracting value but the input is in string"
   ]
  },
  {
   "cell_type": "code",
   "execution_count": 24,
   "id": "ab026862-c3aa-4e4d-ab47-cbdbdd03a199",
   "metadata": {},
   "outputs": [
    {
     "name": "stdin",
     "output_type": "stream",
     "text": [
      "Enter the num: 20\n"
     ]
    }
   ],
   "source": [
    "num1=int(input(\"Enter the num:\"))"
   ]
  },
  {
   "cell_type": "code",
   "execution_count": null,
   "id": "514a1164-841d-48c4-a837-75c8f2b7d1c1",
   "metadata": {},
   "outputs": [],
   "source": []
  }
 ],
 "metadata": {
  "kernelspec": {
   "display_name": "Python 3 (ipykernel)",
   "language": "python",
   "name": "python3"
  },
  "language_info": {
   "codemirror_mode": {
    "name": "ipython",
    "version": 3
   },
   "file_extension": ".py",
   "mimetype": "text/x-python",
   "name": "python",
   "nbconvert_exporter": "python",
   "pygments_lexer": "ipython3",
   "version": "3.12.7"
  }
 },
 "nbformat": 4,
 "nbformat_minor": 5
}
