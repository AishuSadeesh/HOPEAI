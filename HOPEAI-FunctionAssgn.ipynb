{
 "cells": [
  {
   "cell_type": "markdown",
   "id": "f7668b2b",
   "metadata": {},
   "source": [
    "# Function"
   ]
  },
  {
   "cell_type": "code",
   "execution_count": 11,
   "id": "58ca5851",
   "metadata": {},
   "outputs": [],
   "source": [
    "#CREATE FUNCTION, LIST OUT THE ITEMS IN THE LIST\n",
    "def Subfields():\n",
    "    LIST = ['Sub-fields in AI are:', 'Machine Learning', 'Neural Networks','Vision', 'Robotics', 'Speech Processing', 'Natural Language Processing']\n",
    "    for temp in LIST:\n",
    "        print (temp)"
   ]
  },
  {
   "cell_type": "code",
   "execution_count": 12,
   "id": "9c39cece",
   "metadata": {},
   "outputs": [
    {
     "name": "stdout",
     "output_type": "stream",
     "text": [
      "Sub-fields in AI are:\n",
      "Machine Learning\n",
      "Neural Networks\n",
      "Vision\n",
      "Robotics\n",
      "Speech Processing\n",
      "Natural Language Processing\n"
     ]
    }
   ],
   "source": [
    "Subfields()"
   ]
  },
  {
   "cell_type": "code",
   "execution_count": 3,
   "id": "b297760e",
   "metadata": {},
   "outputs": [],
   "source": [
    "#create a function that checks whether the given number is odd or even\n",
    "\n",
    "def OddEven():\n",
    "    num = int(input(\"Enter a number: \"))\n",
    "    if ((num%2)==0):\n",
    "        print (\"num is Even number\")\n",
    "    else:\n",
    "        print(\"num is Odd number\")"
   ]
  },
  {
   "cell_type": "code",
   "execution_count": 4,
   "id": "c8298284",
   "metadata": {},
   "outputs": [
    {
     "name": "stdout",
     "output_type": "stream",
     "text": [
      "Enter a number: 52452\n",
      "num is Even number\n"
     ]
    }
   ],
   "source": [
    "OddEven()"
   ]
  },
  {
   "cell_type": "code",
   "execution_count": 5,
   "id": "aadbd6e9",
   "metadata": {},
   "outputs": [],
   "source": [
    "#Create a function that tells eligibility of marriage for male and female according to their age limit \n",
    "#like 21 for male and 18 for female\n",
    "def Eligible():\n",
    "    Gender = input(\"Your Gender:\")\n",
    "    Age= int(input(\"Your Age:\"))\n",
    "    if (Gender==\"Male\"):\n",
    "        if (Age>=21):\n",
    "            print (\"ELIGIBLE\")\n",
    "        else:\n",
    "            print(\"NOT ELIGIBLE\")\n",
    "    elif (Gender==\"Female\"):\n",
    "        if (Age>=18):\n",
    "            print (\"ELIGIBLE\")\n",
    "        else:\n",
    "            print(\"Not Eligible\")"
   ]
  },
  {
   "cell_type": "code",
   "execution_count": 6,
   "id": "c4485d7b",
   "metadata": {},
   "outputs": [
    {
     "name": "stdout",
     "output_type": "stream",
     "text": [
      "Your Gender:Male\n",
      "Your Age:20\n",
      "NOT ELIGIBLE\n"
     ]
    }
   ],
   "source": [
    "Eligible()"
   ]
  },
  {
   "cell_type": "code",
   "execution_count": 7,
   "id": "cabfc4eb",
   "metadata": {},
   "outputs": [],
   "source": [
    "#calculate the percentage of your 10th mark\n",
    "def percentage():\n",
    "    Sub1=int(input(\"Subject1: \"))\n",
    "    Sub2=int(input(\"Subject2: \"))\n",
    "    Sub3=int(input(\"Subject3: \"))\n",
    "    Sub4=int(input(\"Subject4: \"))\n",
    "    Sub5=int(input(\"Subject5: \"))\n",
    "    Total= Sub1+Sub2+Sub3+Sub4+Sub5\n",
    "    print ('Total:',Total)\n",
    "    per=((Total/500)*100)\n",
    "    print(\"Percentage:\",per)"
   ]
  },
  {
   "cell_type": "code",
   "execution_count": 8,
   "id": "8734265e",
   "metadata": {},
   "outputs": [
    {
     "name": "stdout",
     "output_type": "stream",
     "text": [
      "Subject1: 98\n",
      "Subject2: 87\n",
      "Subject3: 95\n",
      "Subject4: 95\n",
      "Subject5: 93\n",
      "Total: 468\n",
      "Percentage: 93.60000000000001\n"
     ]
    }
   ],
   "source": [
    "percentage()"
   ]
  },
  {
   "cell_type": "code",
   "execution_count": 9,
   "id": "00a58569",
   "metadata": {},
   "outputs": [],
   "source": [
    "def triangle():\n",
    "    h=int(input(\"Height:\"))\n",
    "    b=h=int(input(\"Breadth:\"))\n",
    "    print(\"Area formula:(Height*Breadth)/2\")\n",
    "    area=(h*b)/2\n",
    "    print(\"Area of triangle:\",area)\n",
    "    \n",
    "    h1=int(input(\"Height1:\"))\n",
    "    h2=int(input(\"Height2:\"))\n",
    "    b1=int(input(\"Breadth:\"))\n",
    "    print(\"Perimeter formula:(Height1+Height2+Breadth)\")\n",
    "    peri=((h1+h2+b1))\n",
    "    print(\"Perimeter of triangle:\",peri)"
   ]
  },
  {
   "cell_type": "code",
   "execution_count": 10,
   "id": "e26abf35",
   "metadata": {},
   "outputs": [
    {
     "name": "stdout",
     "output_type": "stream",
     "text": [
      "Height:32\n",
      "Breadth:34\n",
      "Area formula:(Height*Breadth)/2\n",
      "Area of triangle: 578.0\n",
      "Height1:2\n",
      "Height2:4\n",
      "Breadth:4\n",
      "Perimeter formula:(Height1+Height2+Breadth)\n",
      "Perimeter of triangle: 10\n"
     ]
    }
   ],
   "source": [
    "triangle()"
   ]
  },
  {
   "cell_type": "markdown",
   "id": "de5609c2",
   "metadata": {},
   "source": [
    "# class"
   ]
  },
  {
   "cell_type": "code",
   "execution_count": 9,
   "id": "96a69323",
   "metadata": {},
   "outputs": [],
   "source": [
    "class SubfieldsInAI():\n",
    "    def Subfields():\n",
    "        LIST = ['Sub-fields in AI are:', 'Machine Learning', 'Neural Networks','Vision', 'Robotics', 'Speech Processing', 'Natural Language Processing']\n",
    "        for temp in LIST:\n",
    "            print (temp)"
   ]
  },
  {
   "cell_type": "code",
   "execution_count": 10,
   "id": "932822a3",
   "metadata": {},
   "outputs": [
    {
     "name": "stdout",
     "output_type": "stream",
     "text": [
      "Sub-fields in AI are:\n",
      "Machine Learning\n",
      "Neural Networks\n",
      "Vision\n",
      "Robotics\n",
      "Speech Processing\n",
      "Natural Language Processing\n"
     ]
    }
   ],
   "source": [
    "SubfieldsInAI.Subfields()"
   ]
  },
  {
   "cell_type": "code",
   "execution_count": 3,
   "id": "59bbf6cf",
   "metadata": {},
   "outputs": [],
   "source": [
    "class OddEven():\n",
    "    def OddEven():\n",
    "        num = int(input(\"Enter a number: \"))\n",
    "        if ((num%2)==0):\n",
    "            print (f\"{num} is Even number\")\n",
    "        else:\n",
    "            print(f\"{num} is Odd number\")"
   ]
  },
  {
   "cell_type": "code",
   "execution_count": 4,
   "id": "7ba25431",
   "metadata": {},
   "outputs": [
    {
     "name": "stdout",
     "output_type": "stream",
     "text": [
      "Enter a number: 52452\n",
      "52452 is Even number\n"
     ]
    }
   ],
   "source": [
    "OddEven.OddEven()"
   ]
  },
  {
   "cell_type": "code",
   "execution_count": 5,
   "id": "0ac5023c",
   "metadata": {},
   "outputs": [],
   "source": [
    "class EligibilityForMarriage():\n",
    "    def Eligible():\n",
    "        Gender = input(\"Your Gender:\")\n",
    "        Age= int(input(\"Your Age:\"))\n",
    "        if (Gender==\"Male\"):\n",
    "            if (Age>=21):\n",
    "                print (\"ELIGIBLE\")\n",
    "            else:\n",
    "                print(\"NOT ELIGIBLE\")\n",
    "        elif (Gender==\"Female\"):\n",
    "            if (Age>=18):\n",
    "                print (\"ELIGIBLE\")\n",
    "            else:\n",
    "                print(\"Not Eligible\")"
   ]
  },
  {
   "cell_type": "code",
   "execution_count": 6,
   "id": "0abaee1f",
   "metadata": {},
   "outputs": [
    {
     "name": "stdout",
     "output_type": "stream",
     "text": [
      "Your Gender:Male\n",
      "Your Age:20\n",
      "NOT ELIGIBLE\n"
     ]
    }
   ],
   "source": [
    "EligibilityForMarriage.Eligible()"
   ]
  },
  {
   "cell_type": "code",
   "execution_count": 7,
   "id": "5535d091",
   "metadata": {},
   "outputs": [],
   "source": [
    "class FindPercent():\n",
    "    def percentage():\n",
    "        Sub1=int(input(\"Subject1: \"))\n",
    "        Sub2=int(input(\"Subject2: \"))\n",
    "        Sub3=int(input(\"Subject3: \"))\n",
    "        Sub4=int(input(\"Subject4: \"))\n",
    "        Sub5=int(input(\"Subject5: \"))\n",
    "        Total= Sub1+Sub2+Sub3+Sub4+Sub5\n",
    "        print ('Total:',Total)\n",
    "        per=((Total/500)*100)\n",
    "        print(\"Percentage:\",per)"
   ]
  },
  {
   "cell_type": "code",
   "execution_count": 8,
   "id": "5a2d6845",
   "metadata": {},
   "outputs": [
    {
     "name": "stdout",
     "output_type": "stream",
     "text": [
      "Subject1: 98\n",
      "Subject2: 87\n",
      "Subject3: 95\n",
      "Subject4: 95\n",
      "Subject5: 93\n",
      "Total: 468\n",
      "Percentage: 93.60000000000001\n"
     ]
    }
   ],
   "source": [
    "FindPercent.percentage()"
   ]
  },
  {
   "cell_type": "code",
   "execution_count": 9,
   "id": "b3824109",
   "metadata": {},
   "outputs": [],
   "source": [
    "class triangle():\n",
    "    def triangle():\n",
    "        h=int(input(\"Height:\"))\n",
    "        b=h=int(input(\"Breadth:\"))\n",
    "        print(\"Area formula:(Height*Breadth)/2\")\n",
    "        area=(h*b)/2\n",
    "        print(\"Area of triangle:\",area)\n",
    "    \n",
    "        h1=int(input(\"Height1:\"))\n",
    "        h2=int(input(\"Height2:\"))\n",
    "        b1=int(input(\"Breadth:\"))\n",
    "        print(\"Perimeter formula:(Height1+Height2+Breadth)\")\n",
    "        peri=((h1+h2+b1))\n",
    "        print(\"Perimeter of triangle:\",peri)"
   ]
  },
  {
   "cell_type": "code",
   "execution_count": 10,
   "id": "b8092352",
   "metadata": {},
   "outputs": [
    {
     "name": "stdout",
     "output_type": "stream",
     "text": [
      "Height:32\n",
      "Breadth:34\n",
      "Area formula:(Height*Breadth)/2\n",
      "Area of triangle: 578.0\n",
      "Height1:2\n",
      "Height2:4\n",
      "Breadth:4\n",
      "Perimeter formula:(Height1+Height2+Breadth)\n",
      "Perimeter of triangle: 10\n"
     ]
    }
   ],
   "source": [
    "triangle.triangle()"
   ]
  },
  {
   "cell_type": "code",
   "execution_count": null,
   "id": "ac36d37b",
   "metadata": {},
   "outputs": [],
   "source": []
  }
 ],
 "metadata": {
  "kernelspec": {
   "display_name": "Python 3 (ipykernel)",
   "language": "python",
   "name": "python3"
  },
  "language_info": {
   "codemirror_mode": {
    "name": "ipython",
    "version": 3
   },
   "file_extension": ".py",
   "mimetype": "text/x-python",
   "name": "python",
   "nbconvert_exporter": "python",
   "pygments_lexer": "ipython3",
   "version": "3.12.7"
  }
 },
 "nbformat": 4,
 "nbformat_minor": 5
}
